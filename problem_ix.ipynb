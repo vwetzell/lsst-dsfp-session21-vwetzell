{
 "cells": [
  {
   "cell_type": "markdown",
   "metadata": {},
   "source": [
    "# Problem Set IX: Let's Write a 2PCF Code!\n",
    "\n",
    "*LSST DSFP Session 21*\n",
    "\n",
    "*Instructor: Lehman Garrison (https://github.com/lgarrison)*\n",
    "\n",
    "**Overview**\n",
    "\n",
    "The two-point correlation function (2PCF) is a fundamental statistical measure in cosmology. It encodes completely the information content of Gaussian random fields, which is exactly what the cosmological matter distribution looks like on large scales. Computationally, the 2PCF reduces to counting pairs of galaxies as a function of separation. This can give the CPU quite a workout! Let's try implementing and optimizing this calculation.\n",
    "\n",
    "**Goals**\n",
    "\n",
    "In this problem set, you'll practice:\n",
    "- implementing a 2PCF algorithm in Python,\n",
    "- analyzing the time and space complexity of the algorithm,\n",
    "- converting the implementation to NumPy,\n",
    "- accelerating the computation with Numba,\n",
    "- interpreting the cosmological significance of the 2PCF."
   ]
  },
  {
   "cell_type": "markdown",
   "metadata": {},
   "source": [
    "## Introduction to the 2PCF\n",
    "\n",
    "Let's break down the 2PCF, called $\\xi(r)$. It gives the excess probability over random of finding a galaxy at distance $r$ away from another galaxy.  We compute this probability by counting how many galaxies are separated by distance $r$ in some narrow bins of $r$—essentially histogramming, or binning, the separations—and dividing by the number we expected.\n",
    "\n",
    "This is illustrated in [the following video](./Two-point-correlation-function-astronomy.webm) from [CAASTRO](http://caastro.org/research-highlights/science-animations/):\n",
    "\n",
    "<video width=\"384\" height=\"216\" controls>\n",
    "  <source src=\"./Two-point-correlation-function-astronomy.webm\">\n",
    "</video>\n",
    "\n",
    "via [Wikimedia](https://upload.wikimedia.org/wikipedia/commons/c/c0/Two-point-correlation-function-astronomy.webm).\n",
    "\n",
    "We can think about computing this as a double `for` loop over galaxy positions. That is, for each galaxy $i$, loop over all other galaxies $j$ and compute the distance between $i$ and $i$, called $d_{ij}$. Then find the histogram bin that $d_{ij}$ falls into, and increment that count. The histogram itself should run from 0 to $R_{\\rm max}$, with bins of size $dR$.\n",
    "\n",
    "To get from the histogram to $\\xi(r)$, the last piece is to divide the histogram by the expected counts for a uniform random distribution of galaxies. In cosmology nomenclature, if we call the histogram ${\\rm DD}(r)$ and the expected number of random counts ${\\rm RR}(r)$, then the 2PCF is:\n",
    "\n",
    "$$\n",
    "\\xi(r) = \\frac{{\\rm DD}(r)}{{\\rm RR}(r)} - 1, \\\\\n",
    "{\\rm RR}(r) = \\frac{4\\pi\\bar n N}{3}\\left ((r + dR)^3 - r^3\\right ),\\\\\n",
    "\\bar n = \\frac{N - 1}{L^3},\n",
    "$$\n",
    "\n",
    "for $N$ galaxies in a periodic box of side length $L$.\n",
    "\n",
    "<details>\n",
    "<summary>Technical details</summary>\n",
    "\n",
    "The $RR$ term is the mean galaxy density $\\bar n$ times the volume of a spherical shell from radius $r$ to $r + dR$.  The \"minus 1\" in $\\bar n$ arises from the fact that when sitting on one galaxy, only $N-1$ galaxies are available to make a pair. The \"minus 1\" in $\\xi(r)$ arises from the definition as excess probabilty over random. That is, an unclustered distribution has $\\xi(r) = 0$. \n",
    "\n",
    "</details>"
   ]
  },
  {
   "cell_type": "markdown",
   "metadata": {},
   "source": [
    "## A Python 2PCF Implementation\n",
    "\n",
    "Let's start by implementing the 2PCF with Python `for` loops. We'll use a data set of \"real fake\" galaxies (actually halos from an $N$-body simulation). The `load_galaxies()` function loads these positions; there's nothing you need to fill in there.\n",
    "\n",
    "Fill in the `compute_2pcf()` function below. The parts marked by `# YOUR CODE HERE` are where you should add the missing code."
   ]
  },
  {
   "cell_type": "code",
   "execution_count": 1,
   "metadata": {},
   "outputs": [],
   "source": [
    "import numpy as np\n",
    "import astropy.io.ascii\n",
    "\n",
    "\n",
    "def load_galaxies(fn, N=None):\n",
    "    \"\"\"Load galaxy positions from a file and return a random subset of size N,\n",
    "    or all of them if N is None. The returned array has shape (N, 3).\n",
    "    The box size is also returned.\n",
    "    \"\"\"\n",
    "    table = astropy.io.ascii.read(fn)\n",
    "    arr = np.array([table['x'], table['y'], table['z']]).T\n",
    "    L = table.meta['L']\n",
    "    if N is not None:\n",
    "        rng = np.random.default_rng(123)\n",
    "        arr = rng.choice(arr, N, replace=False)\n",
    "\n",
    "    return np.ascontiguousarray(arr), L"
   ]
  },
  {
   "cell_type": "code",
   "execution_count": 57,
   "metadata": {},
   "outputs": [],
   "source": [
    "def compute_2pcf(points, R_max, N_bin, L):\n",
    "    \"\"\"Compute separations between all pairs of points and histogram\n",
    "    the separations.\n",
    "    \"\"\"\n",
    "    N = len(points)\n",
    "    dR = R_max / N_bin  # hint: you'll use this below\n",
    "\n",
    "    # the histogram of separations\n",
    "    sep_hist = np.zeros(N_bin, dtype=np.int64)\n",
    "\n",
    "    for i in range(N):\n",
    "        for j in range(N):\n",
    "            dpos = points[i] - points[j]\n",
    "\n",
    "            dpos -= L * np.rint(dpos / L)  # periodic wrap\n",
    "\n",
    "            d_ij = np.linalg.norm(dpos)\n",
    "            bin_idx = int(d_ij / dR)\n",
    "\n",
    "            if bin_idx < N_bin:\n",
    "                sep_hist[bin_idx] += 1\n",
    "\n",
    "    sep_hist[0] -= N  # remove self-pairs\n",
    "    hist_edges = np.linspace(0, R_max, N_bin + 1)\n",
    "    RR = (\n",
    "        N\n",
    "        * (N - 1)\n",
    "        / L**3\n",
    "        * 4\n",
    "        / 3\n",
    "        * np.pi\n",
    "        * (hist_edges[1:] ** 3 - hist_edges[:-1] ** 3)\n",
    "    )\n",
    "\n",
    "    xi = sep_hist / RR - 1\n",
    "\n",
    "    return xi\n",
    "\n",
    "\n",
    "pos, L = load_galaxies(\"galaxies.ecsv\", N=1500)\n",
    "R_max, N_bin = 150.0, 20\n",
    "xi = compute_2pcf(pos, R_max, N_bin, L)"
   ]
  },
  {
   "cell_type": "markdown",
   "metadata": {},
   "source": [
    "This version will probably take about 25 seconds to run."
   ]
  },
  {
   "cell_type": "markdown",
   "metadata": {},
   "source": [
    "### Plot the result\n",
    "\n",
    "Now that we have a result, let's plot it to make sure it looks sensible before we move onto optimization. Use matplotlib below to plot $\\xi(r)$ versus $r$. We'll use a mixed log-linear y-scale (\"symlog\") to allow for negative y values."
   ]
  },
  {
   "cell_type": "code",
   "execution_count": 24,
   "metadata": {},
   "outputs": [
    {
     "data": {
      "image/png": "[encoded data removed]",
      "text/plain": [
       "<Figure size 640x480 with 1 Axes>"
      ]
     },
     "metadata": {},
     "output_type": "display_data"
    }
   ],
   "source": [
    "import matplotlib.pyplot as plt\n",
    "\n",
    "\n",
    "def plot_xi(xi, R_max, N_bin):\n",
    "    fig, ax = plt.subplots()\n",
    "\n",
    "    R = np.linspace(0, R_max, N_bin)\n",
    "\n",
    "    ax.scatter(R, xi, label=\"2PCF\")\n",
    "\n",
    "    ax.set_xlabel(r\"$r$ [Mpc/$h$]\")\n",
    "    ax.set_ylabel(r\"$\\xi(r)$\")\n",
    "\n",
    "    ax.set_yscale(\"symlog\", linthresh=0.1)\n",
    "\n",
    "\n",
    "plot_xi(xi, R_max, N_bin)"
   ]
  },
  {
   "attachments": {
    "image.png": {
     "image/png": "[encoded data removed]"
    }
   },
   "cell_type": "markdown",
   "metadata": {},
   "source": [
    "If all goes well, your plot should look something like the following:\n",
    "\n",
    "![image.png](attachment:image.png)\n",
    "\n",
    "We see a positive clustering signal on small scales (< 20 Mpc/$h$), and mostly noise on large scales, although we may be able to resolve a signal with more galaxies. But first we need a faster implementation!"
   ]
  },
  {
   "cell_type": "markdown",
   "metadata": {},
   "source": [
    "### Analyze the Algorithm\n",
    "\n",
    "30 seconds is pretty slow for just 1500 galaxies. Part of the problem lies in the computational complexity of the problem; that is, the scaling the number of operations as a function of $N$. Because of the double `for` loop, the computational complexity of this algorithm is $\\mathcal{O}(N^2)$, meaning the cost rises as the square of the $N$ in the limit of large $N$. Usually one is stuck with $\\mathcal{O}(N^2)$ for the 2PCF, and the best you can do is make it as fast as possible.\n",
    "\n",
    "Similar to computational complexity, we can also analyze the *space complexity*. This refers to how much memory the algorithm allocates as a function of $N$. If the amount of space is independent of $N$, then it has space complexity $\\mathcal{O}(1)$; if it allocates memory in proportion to the number of galaxies, it has complexity $\\mathcal{O}(N)$; and so on.\n",
    "\n",
    "**Quiz**\n",
    "\n",
    "What is the space complexity of this implementation?\n",
    "\n",
    "1. $\\mathcal{O}(1)$\n",
    "1. $\\mathcal{O}(N)$\n",
    "1. $\\mathcal{O}(N^2)$\n",
    "1. $\\mathcal{O}(N^3)$\n",
    "\n",
    "<details>\n",
    "<summary>Click here to reveal the answer</summary>\n",
    "\n",
    "The answer is $\\mathcal{O}(1)$! The amount of space for the algorithm is independent of the size of the input dataset. The only allocations are single variables like `d_ij`, or constant-size arrays like `sep_hist`.\n",
    "\n",
    "</details>"
   ]
  },
  {
   "cell_type": "markdown",
   "metadata": {},
   "source": [
    "## NumPy 2PCF Implementation\n",
    "\n",
    "Even given the $\\mathcal{O}(N^2)$ time complexity, we should be able to do better than 30 seconds. After all, $1500^2$ is only 2 million loop iterations, which isn't very many for a computer that operates at billions of cycles per second (and the body of the loop isn't *that* intensive).\n",
    "\n",
    "As we saw during the lecture, maybe we can do better with NumPy. Fill out the `numpy_compute_2pcf()` function below without using any Python `for` loops.\n",
    "\n",
    "Give it a try, but if you get stuck, click the buttons below for hints.\n",
    "<details>\n",
    "<summary>Click here for hint 1</summary>\n",
    "\n",
    "`pos` has shape `(N,3)`, and to avoid using `for` loops, we need to create an array of position differences between all `N**2` pairs of particles. This means creating an array of shape `(N,N,3)`. You'll need to use NumPy array broadcasting to achieve this!\n",
    "\n",
    "</details>\n",
    "\n",
    "<details>\n",
    "<summary>Click here for hint 2</summary>\n",
    "\n",
    "NumPy has a `np.histogram()` function that you can use to bin `d_ij` into a 1D histogram.\n",
    "\n",
    "</details>"
   ]
  },
  {
   "cell_type": "code",
   "execution_count": 58,
   "metadata": {},
   "outputs": [],
   "source": [
    "def numpy_compute_2pcf(pos, R_max, N_bin, L):\n",
    "    N = len(pos)\n",
    "\n",
    "    delta = np.subtract(pos[:, None], pos[None, :])\n",
    "    delta -= L * np.rint(delta / L)  # periodic wrap\n",
    "    \n",
    "    d_ij = np.linalg.norm(delta, axis=-1)\n",
    "\n",
    "    hist_edges = np.linspace(0, R_max, N_bin + 1)\n",
    "    sep_hist = np.histogram(d_ij, bins=hist_edges)[0]\n",
    "\n",
    "    sep_hist[0] -= N  # remove self-pairs\n",
    "\n",
    "    RR = (\n",
    "        N\n",
    "        * (N - 1)\n",
    "        / L**3\n",
    "        * 4\n",
    "        / 3\n",
    "        * np.pi\n",
    "        * (hist_edges[1:] ** 3 - hist_edges[:-1] ** 3)\n",
    "    )\n",
    "\n",
    "    xi = sep_hist / RR - 1\n",
    "\n",
    "    return xi\n",
    "\n",
    "\n",
    "numpy_xi = numpy_compute_2pcf(pos, R_max, N_bin, L)"
   ]
  },
  {
   "cell_type": "markdown",
   "metadata": {},
   "source": [
    "### Check the correctness\n",
    "\n",
    "When you think you got the answer right, compare it to the previous version with the following cell.\n",
    "\n",
    "(This highlights an important principle in optimization, which is to get an unoptimized version working first so you can be confident in the correctness of your optimizations!)"
   ]
  },
  {
   "cell_type": "code",
   "execution_count": 59,
   "metadata": {},
   "outputs": [
    {
     "data": {
      "text/plain": [
       "True"
      ]
     },
     "execution_count": 59,
     "metadata": {},
     "output_type": "execute_result"
    }
   ],
   "source": [
    "np.allclose(xi, numpy_xi)"
   ]
  },
  {
   "cell_type": "markdown",
   "metadata": {},
   "source": [
    "### Time the function\n",
    "\n",
    "The function should feel pretty fast, so go ahead and time it:"
   ]
  },
  {
   "cell_type": "code",
   "execution_count": 60,
   "metadata": {},
   "outputs": [
    {
     "name": "stdout",
     "output_type": "stream",
     "text": [
      "188 ms ± 239 µs per loop (mean ± std. dev. of 7 runs, 10 loops each)\n"
     ]
    }
   ],
   "source": [
    "%timeit numpy_compute_2pcf(pos, R_max, N_bin, L)"
   ]
  },
  {
   "cell_type": "markdown",
   "metadata": {},
   "source": [
    "It should take around 100 ms. That's a 300x improvement!"
   ]
  },
  {
   "cell_type": "markdown",
   "metadata": {},
   "source": [
    "### Plot a better measurement\n",
    "In fact, it's so fast that we can plot the results from a bigger dataset:"
   ]
  },
  {
   "cell_type": "code",
   "execution_count": 61,
   "metadata": {},
   "outputs": [],
   "source": [
    "pos, L = load_galaxies('galaxies.ecsv', N=10_000)\n",
    "numpy_xi = numpy_compute_2pcf(pos, R_max, N_bin, L)"
   ]
  },
  {
   "cell_type": "code",
   "execution_count": 62,
   "metadata": {},
   "outputs": [
    {
     "data": {
      "image/png": "[encoded data removed]",
      "text/plain": [
       "<Figure size 640x480 with 1 Axes>"
      ]
     },
     "metadata": {},
     "output_type": "display_data"
    }
   ],
   "source": [
    "plot_xi(numpy_xi, R_max, N_bin)"
   ]
  },
  {
   "cell_type": "markdown",
   "metadata": {},
   "source": [
    "The result is definitely less noisy; we're resolving clustering out to 60 Mpc/$h$ before it gets noisy.\n",
    "\n",
    "But we can do better with a faster algorithm! In fact, we need to do better, because there may be an interesting signal in the clustering at larger scales..."
   ]
  },
  {
   "cell_type": "markdown",
   "metadata": {},
   "source": [
    "### Analyze the Algorithm\n",
    "\n",
    "Before we move on, analyze the space complexity of your NumPy algorithm (the time complexity is still $\\mathcal{O}(N^2)$).\n",
    "\n",
    "**Quiz**\n",
    "\n",
    "What is the space complexity of your NumPy implementation?\n",
    "\n",
    "1. $\\mathcal{O}(1)$\n",
    "1. $\\mathcal{O}(N)$\n",
    "1. $\\mathcal{O}(N^2)$\n",
    "1. $\\mathcal{O}(N^3)$\n",
    "\n",
    "<details>\n",
    "<summary>Click here for the answer</summary>\n",
    "\n",
    "The space complexity is $\\mathcal{O}(N^2)$, because we created a temporary array of shape `(N,N,3)`. This was fine for small (`N < 10_000`) datasets, but if we went much larger, we would start consuming dozens of GB of memory.\n",
    "\n",
    "</details>"
   ]
  },
  {
   "cell_type": "markdown",
   "metadata": {},
   "source": [
    "## A Numba 2PCF Implementation\n",
    "\n",
    "Now let's implement this in Numba. We want to take advantage of Numba's ability to use `for` loops efficiently, so we'll use the Python implementation as a starting point.\n",
    "\n",
    "There's one very important optimization to make that we haven't talked about yet, and that's using the fact that we know that we're dealing with 3 coordinates (x, y, z). That is, our arrays have shape `(N,3)`, so instead of writing shape-agnostic code like\n",
    "\n",
    "```python\n",
    "delta = points[i] - points[j]\n",
    "```\n",
    "\n",
    "we should write shape-specific code like\n",
    "\n",
    "```python\n",
    "dx = points[i,0] - points[j,0]\n",
    "dy = points[i,1] - points[j,1]\n",
    "dz = points[i,2] - points[j,2]\n",
    "```\n",
    "\n",
    "It's more verbose, but the speedup is worth it! This optimization lets Numba eliminate dynamic array allocation in the inner loop."
   ]
  },
  {
   "cell_type": "code",
   "execution_count": 77,
   "metadata": {},
   "outputs": [],
   "source": [
    "import numba\n",
    "\n",
    "\n",
    "@numba.njit\n",
    "def numba_compute_2pcf(points, R_max, N_bin, L):\n",
    "    N = len(points)\n",
    "    dR = R_max / N_bin\n",
    "\n",
    "    # the histogram of separations\n",
    "    sep_hist = np.zeros(N_bin, dtype=np.int64)\n",
    "\n",
    "    for i in range(N):\n",
    "        for j in range(N):\n",
    "            dx = points[i,0] - points[j,0]\n",
    "            dy = points[i,1] - points[j,1]\n",
    "            dz = points[i,2] - points[j,2]\n",
    "            \n",
    "            dx -= L * np.rint(dx / L)\n",
    "            dy -= L * np.rint(dy / L)\n",
    "            dz -= L * np.rint(dz / L)\n",
    "            \n",
    "            d_ij = np.sqrt(dx**2 + dy**2 + dz**2)\n",
    "            bin_idx = int(d_ij / dR)\n",
    "            \n",
    "            if bin_idx < N_bin:\n",
    "                sep_hist[bin_idx] += 1\n",
    "            \n",
    "    sep_hist[0] -= N  # remove self-pairs\n",
    "    hist_edges = np.linspace(0, R_max, N_bin + 1)\n",
    "    RR = (\n",
    "        N\n",
    "        * (N - 1)\n",
    "        / L**3\n",
    "        * 4\n",
    "        / 3\n",
    "        * np.pi\n",
    "        * (hist_edges[1:] ** 3 - hist_edges[:-1] ** 3)\n",
    "    )\n",
    "\n",
    "    xi = sep_hist / RR - 1\n",
    "\n",
    "    return xi"
   ]
  },
  {
   "cell_type": "markdown",
   "metadata": {},
   "source": [
    "And check the correctness:"
   ]
  },
  {
   "cell_type": "code",
   "execution_count": 78,
   "metadata": {},
   "outputs": [
    {
     "data": {
      "text/plain": [
       "True"
      ]
     },
     "execution_count": 78,
     "metadata": {},
     "output_type": "execute_result"
    }
   ],
   "source": [
    "np.allclose(numba_compute_2pcf(pos, R_max, N_bin, L), numpy_xi)"
   ]
  },
  {
   "cell_type": "markdown",
   "metadata": {},
   "source": [
    "And compare the timing against NumPy (we're using more points now, so NumPy should take around 5 seconds):"
   ]
  },
  {
   "cell_type": "code",
   "execution_count": 71,
   "metadata": {},
   "outputs": [
    {
     "name": "stdout",
     "output_type": "stream",
     "text": [
      "8.46 s ± 3.68 ms per loop (mean ± std. dev. of 7 runs, 1 loop each)\n"
     ]
    }
   ],
   "source": [
    "%timeit numpy_compute_2pcf(pos, R_max, N_bin, L)"
   ]
  },
  {
   "cell_type": "code",
   "execution_count": 79,
   "metadata": {},
   "outputs": [
    {
     "name": "stdout",
     "output_type": "stream",
     "text": [
      "655 ms ± 4.84 ms per loop (mean ± std. dev. of 7 runs, 1 loop each)\n"
     ]
    }
   ],
   "source": [
    "%timeit numba_compute_2pcf(pos, R_max, N_bin, L)"
   ]
  },
  {
   "cell_type": "markdown",
   "metadata": {},
   "source": [
    "Numba should take around 800 ms, a 6x speedup!  We're now over 2000x faster than the original version.\n",
    "\n",
    "Note that the space complexity is back to $\\mathcal{O}(1)$. This is great for RAM usage, but is also a key reason why Numba is so much better than Numpy at this problem. There's no expensive movement of large temporary arrays back and forth to main memory."
   ]
  },
  {
   "cell_type": "markdown",
   "metadata": {},
   "source": [
    "### Optimize (Bonus)\n",
    "There are lots of optimizations that are still possible! Here are some ideas, in order from easy to hard:\n",
    "1. Numba has a `@numba.njit(fastmath=True)` mode that relaxes the tolerance on expensive functions like `sqrt` (usually the loss of accuracy is acceptable). Try it out! Does the result change? Does the performance?\n",
    "1. We visited every pair twice, once with `i` as the \"primary\" and once with `j`. Can you figure out how to only visit each pair once?\n",
    "1. `sqrt` is a classically expensive operation on the CPU. Can you figure out how to do fewer `sqrt` evaluations?\n",
    "1. Parallelize the computation using `nb.prange()`. Warning: Numba will **not** automatically perform parallel reductions on the histogram array, so you need to figure out how to have a separate histogram for every thread and sum the results at the end.\n",
    "\n",
    "See my [fast version](#lehmans-fast-parallel-version) below that implements these tricks in the solution!"
   ]
  },
  {
   "cell_type": "markdown",
   "metadata": {},
   "source": [
    "###  Run on the Full Dataset\n",
    "Take your most optimized version and run on as big a dataset as you can. If you haven't done any bonus optimizations, then 80K points is a good size and should run in about 1 minute.  If you have a faster version, try the full dataset of 135K points."
   ]
  },
  {
   "cell_type": "code",
   "execution_count": 81,
   "metadata": {},
   "outputs": [],
   "source": [
    "pos = load_galaxies('galaxies.ecsv', N=80_000)[0]\n",
    "numba_xi = numba_compute_2pcf(pos, R_max, N_bin, L)"
   ]
  },
  {
   "cell_type": "markdown",
   "metadata": {},
   "source": [
    "### What's Hiding in the Clustering?\n",
    "\n",
    "Plot the result. It should now look smooth all the way out to `R_max`. But what's that bump at 100 Mpc/$h$?\n",
    "\n",
    "**Quiz**\n",
    "\n",
    "What is the clustering enhancement in the galaxy distribution at 100 Mpc/$h$?\n",
    "\n",
    "<details>\n",
    "<summary>Click here for the answer</summary>\n",
    "\n",
    "That's the baryon acoustic oscillation (BAO) peak! This is an imprint in the galaxy distribution leftover from sound waves propagating in the CMB prior to recombination. The location of this peak serves as a standard ruler, letting us measure the distance-redshift relation across cosmic time.\n",
    "\n",
    "LSST, while not a dedicated large-scale structure experiment, will measure enough galaxy positions to enable highly constraining BAO science using the 2PCF alone. And with billions of galaxies, they'd better have a fast 2PCF implementation!\n",
    "\n",
    "</details>"
   ]
  },
  {
   "cell_type": "code",
   "execution_count": 82,
   "metadata": {},
   "outputs": [
    {
     "data": {
      "image/png": "[encoded data removed]",
      "text/plain": [
       "<Figure size 640x480 with 1 Axes>"
      ]
     },
     "metadata": {},
     "output_type": "display_data"
    }
   ],
   "source": [
    "plot_xi(numba_xi, R_max, N_bin)"
   ]
  },
  {
   "cell_type": "markdown",
   "metadata": {},
   "source": [
    "## Lehman's Fast Parallel Version\n",
    "\n",
    "Check the solution if you want to see my fastest parallel Numba implementation! It's about 4x faster without threading, and using 12 threads can run the whole dataset in 7 seconds.\n",
    "\n",
    "Note that if you want to try out parallelism yourself, then the free Google Colab runtimes are not a good option, as they only give you one physical CPU core. You'll want to use your laptop, a cluster, Binder, etc."
   ]
  },
  {
   "cell_type": "markdown",
   "metadata": {},
   "source": [
    "## Epilogue\n",
    "\n",
    "The major optimization that we didn't use in any of the above implementations (including my fast, parallel one) is spatial partitioning. The 2PCF runtime is dominated by pairs at large separation, typically much larger than `R_max`. A partitioning scheme, like a grid or a tree, divides the space into regions and only computes point separations between regions that are close enough to satisfy the `R_max` condition. All major 2PCF codes use spatial partitioning as a pre-processing step to the kind of $N^2$ algorithm we wrote above.\n",
    "\n",
    "Modern, fast 2PCF codes include [treecorr](https://rmjarvis.github.io/TreeCorr/_build/html/index.html), [FCFC](https://github.com/cheng-zhao/FCFC/), and [Corrfunc](https://github.com/manodeep/corrfunc) (of which I'm a co-author). Also, if you're interested in what a fast Numba implementation looks like that includes a spatial partitioner, check out my [numba-2pcf](https://github.com/lgarrison/numba-2pcf) project."
   ]
  }
 ],
 "metadata": {
  "kernelspec": {
   "display_name": "venv",
   "language": "python",
   "name": "python3"
  },
  "language_info": {
   "codemirror_mode": {
    "name": "ipython",
    "version": 3
   },
   "file_extension": ".py",
   "mimetype": "text/x-python",
   "name": "python",
   "nbconvert_exporter": "python",
   "pygments_lexer": "ipython3",
   "version": "3.11.7"
  }
 },
 "nbformat": 4,
 "nbformat_minor": 2
}
